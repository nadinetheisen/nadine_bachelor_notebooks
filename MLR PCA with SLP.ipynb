{
 "cells": [
  {
   "cell_type": "code",
   "execution_count": 1,
   "metadata": {},
   "outputs": [],
   "source": [
    "import numpy as np\n",
    "import matplotlib\n",
    "import matplotlib.pyplot as plt\n",
    "from netCDF4 import Dataset\n",
    "\n",
    "import matplotlib.image as mpimg\n",
    "from matplotlib import cm\n",
    "import matplotlib.animation as ani\n",
    "from scipy.integrate import odeint\n",
    "import pandas as pd\n",
    "import copy\n",
    "\n",
    "from sklearn.decomposition import PCA\n",
    "from sklearn.linear_model import LinearRegression\n",
    "from sklearn.preprocessing import StandardScaler\n",
    "from sklearn.metrics import mean_absolute_error\n",
    "from sklearn.metrics import mean_squared_error\n",
    "\n",
    "%matplotlib inline"
   ]
  },
  {
   "cell_type": "code",
   "execution_count": 2,
   "metadata": {},
   "outputs": [],
   "source": [
    "isotopes = Dataset('climatology/xnapa_isotopes.nc', \"a\")\n",
    "precipitation = Dataset('climatology/xnapa_precip.nc', \"a\")\n",
    "surface_temperature = Dataset('climatology/xnapa_temp.nc', \"a\")\n",
    "sea_level_pressure = Dataset('climatology/xnapa_slp.nc', \"a\")"
   ]
  },
  {
   "cell_type": "code",
   "execution_count": 3,
   "metadata": {},
   "outputs": [],
   "source": [
    "lat = isotopes.variables[\"latitude\"][:].data[1:-1]\n",
    "long = isotopes.variables[\"longitude\"][:].data\n",
    "t = isotopes.variables[\"t\"][:].data\n",
    "\n",
    "trash = [626, 0]"
   ]
  },
  {
   "cell_type": "code",
   "execution_count": 5,
   "metadata": {},
   "outputs": [],
   "source": [
    "do18 = []\n",
    "precip = []\n",
    "temp = []\n",
    "slp = []\n",
    "for i in range(len(t)-1):\n",
    "    do18.append(isotopes.variables[\"dO18\"][i][0].data[1:-1].reshape(71*96))\n",
    "    precip.append(precipitation.variables[\"precip\"][i][0].data[1:-1].reshape(71*96))\n",
    "    temp.append(surface_temperature.variables[\"temp_1\"][i][0].data[1:-1].reshape(71*96))\n",
    "    slp.append(sea_level_pressure.variables[\"p\"][i][0].data[1:-1].reshape(71*96))\n",
    "    \n",
    "do18 = pd.DataFrame(np.delete(np.delete(np.asarray(do18), 0, 0), 626, 0)[:1000])\n",
    "precip = pd.DataFrame(np.delete(np.delete(np.asarray(precip), 0, 0), 626, 0)[:1000])\n",
    "temp = pd.DataFrame(np.delete(np.delete(np.asarray(temp), 0, 0), 626, 0)[:1000])\n",
    "slp = pd.DataFrame(np.delete(np.delete(np.asarray(slp), 0, 0), 626, 0)[:1000])"
   ]
  },
  {
   "cell_type": "code",
   "execution_count": 6,
   "metadata": {},
   "outputs": [],
   "source": [
    "def mlr_pca_slp(temp, precip, slp, do18, n_temp=20, n_precip=20, n_slp=20, n_y=20, train_proportion=0.9, random=True):\n",
    "    \n",
    "    if random:\n",
    "        random_idx = np.random.permutation(do18.index.values)\n",
    "    \n",
    "        temp = temp.reindex(random_idx)\n",
    "        precip = precip.reindex(random_idx)\n",
    "        do18 = do18.reindex(random_idx)\n",
    "    \n",
    "    #divide training and test data\n",
    "    do18_train = do18[:int(np.floor(train_proportion*len(do18)))].reset_index(drop=True)\n",
    "    do18_test = do18[int(np.floor(train_proportion*len(do18))):].reset_index(drop=True)\n",
    "\n",
    "    temp_train = temp[:int(np.floor(train_proportion*len(temp)))].reset_index(drop=True)\n",
    "    temp_test = temp[int(np.floor(train_proportion*len(temp))):].reset_index(drop=True)\n",
    "    \n",
    "    slp_train = slp[:int(np.floor(train_proportion*len(slp)))].reset_index(drop=True)\n",
    "    slp_test = slp[int(np.floor(train_proportion*len(slp))):].reset_index(drop=True)\n",
    "\n",
    "    precip_train = precip[:int(np.floor(train_proportion*len(precip)))].reset_index(drop=True)\n",
    "    precip_test = precip[int(np.floor(train_proportion*len(precip))):].reset_index(drop=True)\n",
    "    \n",
    "    #define scalers\n",
    "    scaler_temp = StandardScaler().fit(temp)\n",
    "    scaler_precip = StandardScaler().fit(precip)\n",
    "    scaler_slp = StandardScaler().fit(slp)\n",
    "    scaler_do18 = StandardScaler().fit(do18)\n",
    "    \n",
    "    #scale data\n",
    "    do18_train_scaler = scaler_do18.transform(do18_train)\n",
    "    do18_test_scaler = scaler_do18.transform(do18_test)\n",
    "\n",
    "    temp_train_scaler = scaler_temp.transform(temp_train)\n",
    "    temp_test_scaler = scaler_temp.transform(temp_test)\n",
    "    \n",
    "    slp_train_scaler = scaler_slp.transform(slp_train)\n",
    "    slp_test_scaler = scaler_slp.transform(slp_test)\n",
    "\n",
    "    precip_train_scaler = scaler_precip.transform(precip_train)\n",
    "    precip_test_scaler = scaler_precip.transform(precip_test)\n",
    "    \n",
    "    #define pcas and fit data\n",
    "    pca_temp = PCA(n_components=n_temp).fit(np.append(temp_train_scaler, temp_test_scaler, axis=0))\n",
    "    pca_precip = PCA(n_components=n_precip).fit(np.append(precip_train_scaler, precip_test_scaler, axis=0))\n",
    "    pca_slp = PCA(n_components=n_slp).fit(np.append(slp_train_scaler, slp_test_scaler, axis=0))\n",
    "    pca_do18 = PCA(n_components=n_y).fit(np.append(do18_train_scaler, do18_test_scaler, axis=0))\n",
    "    \n",
    "    #transform data\n",
    "    do18_train_pc = pca_do18.transform(do18_train_scaler)\n",
    "    do18_test_pc = pca_do18.transform(do18_test_scaler)\n",
    "\n",
    "    temp_train_pc = pca_temp.transform(temp_train_scaler)\n",
    "    temp_test_pc = pca_temp.transform(temp_test_scaler)\n",
    "    \n",
    "    slp_train_pc = pca_slp.transform(slp_train_scaler)\n",
    "    slp_test_pc = pca_slp.transform(slp_test_scaler)\n",
    "\n",
    "    precip_train_pc = pca_precip.transform(precip_train_scaler)\n",
    "    precip_test_pc = pca_precip.transform(precip_test_scaler)\n",
    "    \n",
    "    \n",
    "    X_train = np.append(np.append(temp_train_pc, precip_train_pc, axis=1), slp_train_pc, axis=1)\n",
    "    X_test = np.append(np.append(temp_test_pc, precip_test_pc, axis=1), slp_test_pc, axis=1)\n",
    "\n",
    "    Y_train = do18_train_pc\n",
    "    Y_test = pd.DataFrame(do18_test_pc)\n",
    "    \n",
    "    Y = pd.DataFrame(np.append(Y_train, Y_test, axis=0))\n",
    "    \n",
    "    #train model\n",
    "    regressor = LinearRegression().fit(X_train, Y_train)\n",
    "    \n",
    "    #predict test data\n",
    "    pred_pc = pd.DataFrame(regressor.predict(X_test))\n",
    "    pred_norm = pd.DataFrame(pca_do18.inverse_transform(pred_pc))\n",
    "    pred = pd.DataFrame(scaler_do18.inverse_transform(pred_norm))\n",
    "    \n",
    "    \n",
    "    #return pca and final data\n",
    "    return pred_pc, pred_norm, pred, Y_test, pd.DataFrame(do18_test_scaler), do18_test"
   ]
  },
  {
   "cell_type": "code",
   "execution_count": 7,
   "metadata": {},
   "outputs": [],
   "source": [
    "pred_pc, pred_norm, pred, Y_test, do18_test_scaler, do18_test = mlr_pca_slp(temp, precip, slp, do18, n_temp=20, n_precip=20, n_y=20)"
   ]
  },
  {
   "cell_type": "code",
   "execution_count": 8,
   "metadata": {},
   "outputs": [],
   "source": [
    "pred_list = copy.deepcopy(pred)\n",
    "test_list = copy.deepcopy(do18_test)"
   ]
  },
  {
   "cell_type": "code",
   "execution_count": 9,
   "metadata": {
    "scrolled": true
   },
   "outputs": [
    {
     "name": "stdout",
     "output_type": "stream",
     "text": [
      "0\n",
      "1\n",
      "2\n",
      "3\n",
      "4\n",
      "5\n",
      "6\n",
      "7\n",
      "8\n",
      "9\n",
      "10\n",
      "11\n",
      "12\n",
      "13\n",
      "14\n",
      "15\n",
      "16\n",
      "17\n",
      "18\n",
      "19\n",
      "20\n",
      "21\n",
      "22\n",
      "23\n",
      "24\n",
      "25\n",
      "26\n",
      "27\n",
      "28\n",
      "29\n",
      "30\n",
      "31\n",
      "32\n",
      "33\n",
      "34\n",
      "35\n",
      "36\n",
      "37\n",
      "38\n",
      "39\n",
      "40\n",
      "41\n",
      "42\n",
      "43\n",
      "44\n",
      "45\n",
      "46\n",
      "47\n",
      "48\n",
      "49\n",
      "50\n",
      "51\n",
      "52\n",
      "53\n",
      "54\n",
      "55\n",
      "56\n",
      "57\n",
      "58\n",
      "59\n",
      "60\n",
      "61\n",
      "62\n",
      "63\n",
      "64\n",
      "65\n",
      "66\n",
      "67\n",
      "68\n",
      "69\n",
      "70\n",
      "71\n",
      "72\n",
      "73\n",
      "74\n",
      "75\n",
      "76\n",
      "77\n",
      "78\n",
      "79\n",
      "80\n",
      "81\n",
      "82\n",
      "83\n",
      "84\n",
      "85\n",
      "86\n",
      "87\n",
      "88\n",
      "89\n",
      "90\n",
      "91\n",
      "92\n",
      "93\n",
      "94\n",
      "95\n",
      "96\n",
      "97\n",
      "98\n",
      "99\n"
     ]
    }
   ],
   "source": [
    "for i in range(100):\n",
    "    print(i)\n",
    "    pred_pc, pred_norm, pred, Y_test, do18_test_scaler, do18_test = mlr_pca_slp(temp, precip, slp, do18, n_temp=20, n_precip=20, n_y=20)\n",
    "    pred_list = pred_list.append(pred)\n",
    "    test_list = test_list.append(do18_test)"
   ]
  },
  {
   "cell_type": "code",
   "execution_count": 10,
   "metadata": {},
   "outputs": [],
   "source": [
    "pred_list = pred_list.reset_index(drop=True)\n",
    "test_list = test_list.reset_index(drop=True)"
   ]
  },
  {
   "cell_type": "code",
   "execution_count": 11,
   "metadata": {},
   "outputs": [],
   "source": [
    "rmse_geolist = []\n",
    "for pixel in test_list.columns.values:\n",
    "    rmse_pixel = mean_squared_error(pred_list[pixel].values, test_list[pixel].values, squared=False)\n",
    "    rmse_geolist.append(rmse_pixel)\n",
    "    \n",
    "df_rmse_geolist = pd.DataFrame(np.asarray(rmse_geolist).reshape(71,96))"
   ]
  },
  {
   "cell_type": "code",
   "execution_count": 12,
   "metadata": {},
   "outputs": [],
   "source": [
    "std = pd.DataFrame(do18.std().values.reshape(71,96))"
   ]
  },
  {
   "cell_type": "code",
   "execution_count": 13,
   "metadata": {},
   "outputs": [
    {
     "data": {
      "image/png": "[encoded data removed]",
      "text/plain": [
       "<Figure size 1440x720 with 2 Axes>"
      ]
     },
     "metadata": {
      "needs_background": "light"
     },
     "output_type": "display_data"
    }
   ],
   "source": [
    "para = df_rmse_geolist.values\n",
    "\n",
    "matplotlib.rcParams['figure.figsize'] = (20.0, 10.0)\n",
    "fig = plt.figure()\n",
    "\n",
    "colors = [\"#f2d7d5\", \"#e6b0aa\", \"#d98880\", \"#cd6155\", \"#a93226\", \"#7b241c\", \"#d68910\"]\n",
    "bounds = [0.2, 0.3, 0.5, 0.7, 1, 1.5, 2, 3]\n",
    "cmap= matplotlib.colors.ListedColormap(colors)\n",
    "cmap.set_under(\"#ffffff\")\n",
    "cmap.set_over(\"#f7dc6f\")\n",
    "norm = matplotlib.colors.BoundaryNorm(bounds, cmap.N)\n",
    "\n",
    "layer = plt.pcolor(long, lat, para, cmap=cmap, vmin=0.1, vmax=3, norm=norm)\n",
    "plt.tight_layout()\n",
    "\n",
    "cbar = plt.colorbar(\n",
    "    layer,\n",
    "    extend=\"both\", \n",
    "    ticks=bounds, \n",
    "    spacing='proportional'\n",
    ")"
   ]
  },
  {
   "cell_type": "code",
   "execution_count": 14,
   "metadata": {},
   "outputs": [
    {
     "data": {
      "text/plain": [
       "129717"
      ]
     },
     "execution_count": 14,
     "metadata": {},
     "output_type": "execute_result"
    }
   ],
   "source": [
    "file = open(\"rmse_mlr_pca_slp.txt\", \"w\")\n",
    "dump = \"\\n\".join(df_rmse_geolist.values.reshape(71*96).astype(str).tolist())\n",
    "file.write(dump)"
   ]
  },
  {
   "cell_type": "code",
   "execution_count": 15,
   "metadata": {},
   "outputs": [
    {
     "data": {
      "image/png": "[encoded data removed]",
      "text/plain": [
       "<Figure size 1440x720 with 2 Axes>"
      ]
     },
     "metadata": {
      "needs_background": "light"
     },
     "output_type": "display_data"
    }
   ],
   "source": [
    "para = df_rmse_geolist/std -1\n",
    "\n",
    "matplotlib.rcParams['figure.figsize'] = (20.0, 10.0)\n",
    "fig = plt.figure()\n",
    "\n",
    "colors = [\"#145a32\", \"#229954\", \"#52be80\", \"#a9dfbf\",  \"#e9f7ef\", \"#f9ebea\", \"#e6b0aa\", \"#cd6155\", \"#a93226\", \"#7b241c\"]\n",
    "bounds = [-1, -0.8, -0.6, -0.4, -0.2, 0, 0.2, 0.4, 0.6, 0.8, 1] \n",
    "cmap= matplotlib.colors.ListedColormap(colors)\n",
    "norm = matplotlib.colors.BoundaryNorm(bounds, cmap.N)\n",
    "\n",
    "layer = plt.pcolor(\n",
    "    long, lat, para, \n",
    "    cmap=cmap,\n",
    "    vmin=-1, vmax=1, \n",
    "    norm=norm\n",
    ")\n",
    "plt.tight_layout()\n",
    "\n",
    "cbar = plt.colorbar(\n",
    "    layer,\n",
    "    ticks=bounds, \n",
    "    spacing='proportional'\n",
    ")"
   ]
  },
  {
   "cell_type": "code",
   "execution_count": 16,
   "metadata": {},
   "outputs": [
    {
     "data": {
      "text/plain": [
       "142611"
      ]
     },
     "execution_count": 16,
     "metadata": {},
     "output_type": "execute_result"
    }
   ],
   "source": [
    "file = open(\"rmse_norm_mlr_pca_slp.txt\", \"w\")\n",
    "dump = \"\\n\".join((df_rmse_geolist/std -1).values.reshape(71*96).astype(str).tolist())\n",
    "file.write(dump)"
   ]
  },
  {
   "cell_type": "code",
   "execution_count": 42,
   "metadata": {},
   "outputs": [
    {
     "data": {
      "text/plain": [
       "0.01601438535232376"
      ]
     },
     "execution_count": 42,
     "metadata": {},
     "output_type": "execute_result"
    }
   ],
   "source": [
    "para.std().std()"
   ]
  },
  {
   "cell_type": "code",
   "execution_count": null,
   "metadata": {},
   "outputs": [],
   "source": []
  }
 ],
 "metadata": {
  "kernelspec": {
   "display_name": "Python 3",
   "language": "python",
   "name": "python3"
  },
  "language_info": {
   "codemirror_mode": {
    "name": "ipython",
    "version": 3
   },
   "file_extension": ".py",
   "mimetype": "text/x-python",
   "name": "python",
   "nbconvert_exporter": "python",
   "pygments_lexer": "ipython3",
   "version": "3.7.4"
  }
 },
 "nbformat": 4,
 "nbformat_minor": 2
}
